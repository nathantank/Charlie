{
 "cells": [
  {
   "cell_type": "code",
   "execution_count": 2,
   "metadata": {},
   "outputs": [],
   "source": [
    "import cobra\n",
    "from cobra.io import load_model\n",
    "import escher\n",
    "from escher import Builder\n",
    "from time import sleep\n",
    "import pandas"
   ]
  },
  {
   "cell_type": "code",
   "execution_count": null,
   "metadata": {},
   "outputs": [],
   "source": [
    "#Run FBA, see growth rate under normal import circumstances\n",
    "solution = model.optimize()\n",
    "print('Growth rate: ' + str(solution.objective_value) + ' 1/h')"
   ]
  },
  {
   "cell_type": "code",
   "execution_count": null,
   "metadata": {},
   "outputs": [],
   "source": [
    "#what if we decrease 'amount' of glucose in medium (i.e. decrease import rate of glucose? what happens to growth rate?)\n",
    "model.reactions.get_by_id(\"EX_glc__D_e\").upper_bound = 1000\n",
    "\n",
    "model.reactions.get_by_id(\"EX_glc__D_e\").lower_bound = -10\n",
    "solution = model.optimize()\n",
    "print('Growth rate: ' + str(solution.objective_value) + ' 1/h')\n"
   ]
  },
  {
   "cell_type": "code",
   "execution_count": null,
   "metadata": {},
   "outputs": [],
   "source": [
    "#convert fluxes to df\n",
    "print('Growth rate: ' + str(solution.objective_value) + ' 1/h')\n",
    "df = pandas.DataFrame.from_dict([solution.fluxes]).T\n",
    "df.to_csv('FBA_max_biomass.csv')"
   ]
  },
  {
   "cell_type": "code",
   "execution_count": 4,
   "metadata": {},
   "outputs": [
    {
     "data": {
      "text/plain": [
       "[{'organism': 'Saccharomyces cerevisiae',\n",
       "  'map_name': 'iMM904.Central carbon metabolism'},\n",
       " {'organism': 'Homo sapiens',\n",
       "  'map_name': 'RECON1.Inositol retinol metabolism'},\n",
       " {'organism': 'Homo sapiens', 'map_name': 'RECON1.Glycolysis TCA PPP'},\n",
       " {'organism': 'Homo sapiens', 'map_name': 'RECON1.Tryptophan metabolism'},\n",
       " {'organism': 'Homo sapiens', 'map_name': 'RECON1.Carbohydrate metabolism'},\n",
       " {'organism': 'Homo sapiens',\n",
       "  'map_name': 'RECON1.Amino acid metabolism (partial)'},\n",
       " {'organism': 'Escherichia coli', 'map_name': 'iJO1366.Nucleotide metabolism'},\n",
       " {'organism': 'Escherichia coli',\n",
       "  'map_name': 'iJO1366.Fatty acid biosynthesis (saturated)'},\n",
       " {'organism': 'Escherichia coli',\n",
       "  'map_name': 'iJO1366.Nucleotide and histidine biosynthesis'},\n",
       " {'organism': 'Escherichia coli', 'map_name': 'e_coli_core.Core metabolism'},\n",
       " {'organism': 'Escherichia coli', 'map_name': 'iJO1366.Central metabolism'},\n",
       " {'organism': 'Escherichia coli',\n",
       "  'map_name': 'iJO1366.Fatty acid beta-oxidation'}]"
      ]
     },
     "execution_count": 4,
     "metadata": {},
     "output_type": "execute_result"
    }
   ],
   "source": [
    "escher.list_available_maps()"
   ]
  },
  {
   "cell_type": "code",
   "execution_count": 3,
   "metadata": {},
   "outputs": [
    {
     "name": "stdout",
     "output_type": "stream",
     "text": [
      "Downloading Map from https://escher.github.io/1-0-0/6/maps/Escherichia%20coli/e_coli_core.Core%20metabolism.json\n",
      "Downloading Model from https://escher.github.io/1-0-0/6/models/Escherichia%20coli/iJO1366.json\n"
     ]
    },
    {
     "data": {
      "application/vnd.jupyter.widget-view+json": {
       "model_id": "45045287101847e8baa2e8df7d82fee5",
       "version_major": 2,
       "version_minor": 0
      },
      "text/plain": [
       "Builder()"
      ]
     },
     "metadata": {},
     "output_type": "display_data"
    }
   ],
   "source": [
    "builder = Builder(\n",
    "    map_name='e_coli_core.Core metabolism',\n",
    "    model_name='iJO1366',\n",
    ")\n",
    "builder"
   ]
  },
  {
   "cell_type": "code",
   "execution_count": null,
   "metadata": {},
   "outputs": [],
   "source": []
  },
  {
   "cell_type": "code",
   "execution_count": null,
   "metadata": {},
   "outputs": [],
   "source": [
    "#simulate deletions\n",
    "from cobra.flux_analysis import (\n",
    "    single_gene_deletion, single_reaction_deletion, double_gene_deletion,\n",
    "    double_reaction_deletion)\n",
    "with model:\n",
    "    model.reactions.PGI.knock_out()\n",
    "    print('PGI knocked out: ', model.optimize())\n",
    "    solution = model.optimize()\n",
    "    print('Growth rate: ' + str(solution.objective_value) + ' 1/h')\n",
    "    df = pandas.DataFrame.from_dict([solution.fluxes]).T\n",
    "    df.to_csv('FBA_max_biomas1.csv')  "
   ]
  },
  {
   "cell_type": "code",
   "execution_count": null,
   "metadata": {},
   "outputs": [],
   "source": [
    "#add heterologous reactions for genes crtE, crtB, crtI\n"
   ]
  }
 ],
 "metadata": {
  "kernelspec": {
   "display_name": "Python 3",
   "language": "python",
   "name": "python3"
  },
  "language_info": {
   "codemirror_mode": {
    "name": "ipython",
    "version": 3
   },
   "file_extension": ".py",
   "mimetype": "text/x-python",
   "name": "python",
   "nbconvert_exporter": "python",
   "pygments_lexer": "ipython3",
   "version": "3.11.4"
  },
  "orig_nbformat": 4
 },
 "nbformat": 4,
 "nbformat_minor": 2
}
