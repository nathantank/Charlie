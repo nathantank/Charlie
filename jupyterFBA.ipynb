{
 "cells": [
  {
   "cell_type": "code",
   "execution_count": 1,
   "metadata": {},
   "outputs": [],
   "source": [
    "import cobra\n",
    "from cobra.io import load_model\n",
    "import escher\n",
    "from escher import Builder\n",
    "from time import sleep\n",
    "import pandas\n",
    "from cobra import Model, Reaction, Metabolite"
   ]
  },
  {
   "cell_type": "code",
   "execution_count": 2,
   "metadata": {},
   "outputs": [
    {
     "name": "stdout",
     "output_type": "stream",
     "text": [
      "Growth rate: 0.9823718127269633 1/h\n"
     ]
    }
   ],
   "source": [
    "#define model\n",
    "model = load_model(\"iJO1366\")\n",
    "#Run FBA, see growth rate under normal import circumstances\n",
    "solution = model.optimize()\n",
    "print('Growth rate: ' + str(solution.objective_value) + ' 1/h')"
   ]
  },
  {
   "cell_type": "code",
   "execution_count": null,
   "metadata": {},
   "outputs": [],
   "source": [
    "#what if we decrease 'amount' of glucose in medium (i.e. decrease import rate of glucose? what happens to growth rate?)\n",
    "model.reactions.get_by_id(\"EX_glc__D_e\").upper_bound = 1000\n",
    "\n",
    "model.reactions.get_by_id(\"EX_glc__D_e\").lower_bound = -10\n",
    "solution = model.optimize()\n",
    "print('Growth rate: ' + str(solution.objective_value) + ' 1/h')\n"
   ]
  },
  {
   "cell_type": "code",
   "execution_count": null,
   "metadata": {},
   "outputs": [],
   "source": [
    "#convert fluxes to df\n",
    "print('Growth rate: ' + str(solution.objective_value) + ' 1/h')\n",
    "df = pandas.DataFrame.from_dict([solution.fluxes]).T\n",
    "df.to_csv('FBA_max_biomass.csv')"
   ]
  },
  {
   "cell_type": "code",
   "execution_count": null,
   "metadata": {},
   "outputs": [],
   "source": [
    "escher.list_available_maps()"
   ]
  },
  {
   "cell_type": "code",
   "execution_count": 9,
   "metadata": {},
   "outputs": [
    {
     "name": "stdout",
     "output_type": "stream",
     "text": [
      "Downloading Map from https://escher.github.io/1-0-0/6/maps/Escherichia%20coli/e_coli_core.Core%20metabolism.json\n",
      "Downloading Model from https://escher.github.io/1-0-0/6/models/Escherichia%20coli/iJO1366.json\n"
     ]
    },
    {
     "data": {
      "application/vnd.jupyter.widget-view+json": {
       "model_id": "ed9f24fc18e54ef4b8aeeb007a619f3a",
       "version_major": 2,
       "version_minor": 0
      },
      "text/plain": [
       "Builder()"
      ]
     },
     "metadata": {},
     "output_type": "display_data"
    }
   ],
   "source": [
    "builder = Builder(\n",
    "    map_name='e_coli_core.Core metabolism',\n",
    "    model_name='iJO1366',\n",
    ")\n",
    "builder"
   ]
  },
  {
   "cell_type": "code",
   "execution_count": null,
   "metadata": {},
   "outputs": [],
   "source": []
  },
  {
   "cell_type": "code",
   "execution_count": null,
   "metadata": {},
   "outputs": [],
   "source": [
    "#simulate deletions\n",
    "from cobra.flux_analysis import (\n",
    "    single_gene_deletion, single_reaction_deletion, double_gene_deletion,\n",
    "    double_reaction_deletion)\n",
    "with model:\n",
    "    model.reactions.PGI.knock_out()\n",
    "    print('PGI knocked out: ', model.optimize())\n",
    "    solution = model.optimize()\n",
    "    print('Growth rate: ' + str(solution.objective_value) + ' 1/h')\n",
    "    df = pandas.DataFrame.from_dict([solution.fluxes]).T\n",
    "    df.to_csv('FBA_max_biomas1.csv')  "
   ]
  },
  {
   "cell_type": "code",
   "execution_count": 3,
   "metadata": {},
   "outputs": [],
   "source": [
    "#add heterologous reactions for genes crtE, crtB, crtI\n",
    "#define pre-existing metabolites\n",
    "ipdp_c = model.metabolites.get_by_id(\"ipdp_c\")\n",
    "frdp_c = model.metabolites.get_by_id(\"frdp_c\")\n",
    "ppi_c = model.metabolites.get_by_id(\"ppi_c\")\n",
    "nadp_c = model.metabolites.get_by_id(\"nadp_c\")\n",
    "nadph_c = model.metabolites.get_by_id(\"nadph_c\")\n",
    "#create new metabolites\n",
    "ggpp_c = Metabolite('ggpp_c',formula ='C20H36O7P2',name ='Geranylgeranyl pyrophosphate', compartment='c')\n",
    "phyto_c = Metabolite('phyto_c',formula ='C40H64', name ='Phytoene', compartment ='c')\n",
    "lyco_c = Metabolite('lyco_c',formula ='C40H56', name ='Lycopene', compartment ='c')\n",
    "#create new reactions\n",
    "reaction1 = Reaction('crtE')\n",
    "reaction1.name = 'geranylgeranyl pyrophosphate synthase (crtE)'\n",
    "reaction1.subsystem = 'Lycopene Biosynthesis'\n",
    "reaction1.lower_bound = 0\n",
    "reaction1.upper_bound = 1000\n",
    "reaction1.add_metabolites({ipdp_c: -1.0, frdp_c:-1.0,ggpp_c:1.0,ppi_c:1.0})\n",
    "\n",
    "reaction2 = Reaction('crtB')\n",
    "reaction2.name = 'phytoene synthase (crtB)'\n",
    "reaction2.subsystem = 'Lycopene Biosynthesis'\n",
    "reaction2.lower_bound = 0\n",
    "reaction2.upper_bound = 1000\n",
    "reaction2.add_metabolites({ggpp_c:-2.0,phyto_c:1.0,ppi_c:1.0})\n",
    "\n",
    "reaction3 = Reaction('crtI')\n",
    "reaction3.name = 'phytoene desaturase (crtI)'\n",
    "reaction3.subsystem = 'Lycopene Biosynthesis'\n",
    "reaction3.lower_bound = 0\n",
    "reaction3.upper_bound = 1000\n",
    "reaction3.add_metabolites({phyto_c:-1.0,nadp_c:-8.0,lyco_c:1.0,nadph_c:8.0})\n",
    "\n",
    "reaction4 = Reaction('LYCO-dem')\n",
    "reaction4.name = 'Lycopene demand'\n",
    "reaction4.subsystem = 'Lycopene biosynthesis'\n",
    "reaction4.lower_bound = 0\n",
    "reaction4.upper_bound = 1000\n",
    "reaction4.add_metabolites({lyco_c: -1.0})\n",
    "model.add_reactions([reaction1,reaction2,reaction3,reaction4])"
   ]
  },
  {
   "cell_type": "code",
   "execution_count": null,
   "metadata": {},
   "outputs": [],
   "source": [
    "from pathlib import Path\n",
    "iJO1366_crtEBI_path = Path()\n",
    "data_dir = Path(\".\") / \"..\" / \"Documents\" / \"GitHub\" / \"Charlie\"\n",
    "data_dir = data_dir.resolve()\n",
    "iJO1366_crtEBI_path = data_dir / \"iJO1366_crtEBI.xml\"\n",
    "read_sbml_model(str(iJO1366_crtEBI_path.resolve()))\n"
   ]
  },
  {
   "cell_type": "code",
   "execution_count": 15,
   "metadata": {},
   "outputs": [],
   "source": [
    "#save edited model\n",
    "from pathlib import Path\n",
    "from cobra.io import load_json_model, save_json_model, load_matlab_model, save_matlab_model, read_sbml_model, write_sbml_model\n",
    "import logging\n",
    "save_json_model(model,'iJO1366_crtEBI.json')\n",
    "write_sbml_model(model,'iJO1366_crtEBI.xml')\n",
    "#load directory\n",
    "iJO1366_crtEBI_path = 'C:/Users/natha/OneDrive/Documents/GitHub/Charlie/iJO1366_crtEBI.xml'\n",
    "model = cobra.io.read_sbml_model(str(iJO1366_crtEBI_path))\n"
   ]
  },
  {
   "cell_type": "code",
   "execution_count": null,
   "metadata": {},
   "outputs": [],
   "source": [
    "#load new model and create new map\n",
    "builder = Builder(\n",
    "    map_name='e_coli_core.Core metabolism',\n",
    "    model_name='iJO1366',\n",
    ")\n",
    "builder"
   ]
  },
  {
   "cell_type": "code",
   "execution_count": 24,
   "metadata": {},
   "outputs": [
    {
     "name": "stdout",
     "output_type": "stream",
     "text": [
      "Objective fxn value: 0.986514446952959\n",
      "Growth Rate (1/h): 0.986514446952959\n",
      "Lycopene Production Rate (mmol/gdcw/h): 0.0\n",
      "Lycopene Yield (mol/mol glucose): 0.0\n"
     ]
    }
   ],
   "source": [
    "#set objective fxns for biomass\n",
    "model.reactions.get_by_id('BIOMASS_Ec_iJO1366_core_53p95M').objective_coefficient = 0\n",
    "model.reactions.get_by_id('BIOMASS_Ec_iJO1366_WT_53p95M').objective_coefficient = 1.0\n",
    "model.reactions.get_by_id('LYCO-dem').objective_coefficient = 0.0\n",
    "#run FBA\n",
    "solution = model.optimize()\n",
    "print('Objective fxn value: ' + str(solution.objective_value))\n",
    "#export result\n",
    "df = pandas.DataFrame.from_dict([solution.fluxes]).T\n",
    "df.to_csv('FBA_max_biomass_crtEBI.csv') \n",
    "#solution output\n",
    "#Output solution\n",
    "print('Growth Rate (1/h): ' + str(solution.fluxes.get('BIOMASS_Ec_iJO1366_WT_53p95M')))\n",
    "print('Lycopene Production Rate (mmol/gdcw/h): ' + str(solution.fluxes.get('LYCO-dem')))\n",
    "print('Lycopene Yield (mol/mol glucose): ' +\n",
    "str(-solution.fluxes.get('LYCO-dem')/solution.fluxes.get('EX_glc__D_e')))\n",
    "#conclusion: we see no flux to Lycopene in this instance: the strain is not engineered!"
   ]
  },
  {
   "cell_type": "code",
   "execution_count": 25,
   "metadata": {},
   "outputs": [
    {
     "name": "stdout",
     "output_type": "stream",
     "text": [
      "Flux in original solution:\n",
      "dxs:  0.006976630168872916\n",
      "idi:  0.0009342291812696469\n",
      "ispD  0.006536644725531895\n",
      "ispF  0.006536644725531896\n"
     ]
    }
   ],
   "source": [
    "#engineer the strain to produce lycopene\n",
    "#strategies: #overexpress genes (allow for genes to )\n",
    "# 2. run a knockout screening to generate strains above a certain growth rate as well as lycopene production\n",
    "\n",
    "#what are the fluxes in the original solution?\n",
    "print('Flux in original solution:')\n",
    "#gene for DXS\n",
    "print('dxs: ', solution.fluxes.get('DXPS'))\n",
    "#gene for IDI\n",
    "print('idi: ', solution.fluxes.get('IPDDI'))\n",
    "#genes for ispDF\n",
    "print('ispD ', solution.fluxes.get('MEPCT'))\n",
    "print('ispF ', solution.fluxes.get('MECDPS'))"
   ]
  },
  {
   "cell_type": "code",
   "execution_count": 26,
   "metadata": {},
   "outputs": [
    {
     "name": "stdout",
     "output_type": "stream",
     "text": [
      "Flux ranges in FVA... \n",
      "         minimum   maximum\n",
      "DXPS    0.006279  0.894814\n",
      "IPDDI  -0.671443  0.222974\n",
      "MECDPS  0.005883  0.894418\n",
      "MEPCT   0.005883  0.894418\n"
     ]
    }
   ],
   "source": [
    "from cobra.flux_analysis import flux_variability_analysis\n",
    "#flux variability analysis\n",
    "print('Flux ranges in FVA... ')# essentially, what are the expression ranges of the genes to optimize biomass formation?\n",
    "reactions_OE = [model.reactions.DXPS, model.reactions.IPDDI, model.reactions.MECDPS,\n",
    "model.reactions.MEPCT]\n",
    "fva = flux_variability_analysis(model, reaction_list = reactions_OE,\n",
    "fraction_of_optimum=0.9)\n",
    "print(fva)\n"
   ]
  },
  {
   "cell_type": "code",
   "execution_count": 27,
   "metadata": {},
   "outputs": [
    {
     "name": "stdout",
     "output_type": "stream",
     "text": [
      "Objective fxn value: 0.7647818319530075\n",
      "Growth Rate (1/h): 0.7647818319530075\n",
      "Lycopene Production Rate (mmol/gdcw/h): 0.24963787580257027\n",
      "Lycopene Yield (mol/mol glucose): 0.024963787580257028\n"
     ]
    }
   ],
   "source": [
    "#\"overexpress\" target genes by changing reaction lower bound to maximum value in flux variability analysis\n",
    "model.reactions.get_by_id('DXPS').lower_bound = 1\n",
    "model.reactions.get_by_id('IPDDI').lower_bound = 0.5  \n",
    "model.reactions.get_by_id('MECDPS').lower_bound = 2\n",
    "model.reactions.get_by_id('MEPCT').lower_bound = 2\n",
    "#set objective fxns for biomass\n",
    "model.reactions.get_by_id('BIOMASS_Ec_iJO1366_core_53p95M').objective_coefficient = 0\n",
    "model.reactions.get_by_id('BIOMASS_Ec_iJO1366_WT_53p95M').objective_coefficient = 1.0\n",
    "model.reactions.get_by_id('LYCO-dem').objective_coefficient = 0.0\n",
    "#run FBA\n",
    "solution = model.optimize()\n",
    "print('Objective fxn value: ' + str(solution.objective_value))\n",
    "#export result\n",
    "df = pandas.DataFrame.from_dict([solution.fluxes]).T\n",
    "df.to_csv('FBA_max_biomass_crtEBI_overexpressed.csv') \n",
    "#solution output\n",
    "#Output solution\n",
    "print('Growth Rate (1/h): ' + str(solution.fluxes.get('BIOMASS_Ec_iJO1366_WT_53p95M')))\n",
    "print('Lycopene Production Rate (mmol/gdcw/h): ' + str(solution.fluxes.get('LYCO-dem')))\n",
    "print('Lycopene Yield (mol/mol glucose): ' +\n",
    "str(-solution.fluxes.get('LYCO-dem')/solution.fluxes.get('EX_glc__D_e')))\n",
    "\n"
   ]
  },
  {
   "cell_type": "code",
   "execution_count": 28,
   "metadata": {},
   "outputs": [
    {
     "name": "stdout",
     "output_type": "stream",
     "text": [
      "Downloading Map from https://escher.github.io/1-0-0/6/maps/Escherichia%20coli/e_coli_core.Core%20metabolism.json\n",
      "Downloading Model from https://escher.github.io/1-0-0/6/models/Escherichia%20coli/iJO1366.json\n"
     ]
    },
    {
     "data": {
      "application/vnd.jupyter.widget-view+json": {
       "model_id": "c4d5af95d66f4d4b9ea68aab8c8a9f05",
       "version_major": 2,
       "version_minor": 0
      },
      "text/plain": [
       "Builder()"
      ]
     },
     "metadata": {},
     "output_type": "display_data"
    }
   ],
   "source": [
    "#visualize overexpression on Escher\n",
    "builder = Builder(\n",
    "    map_name='e_coli_core.Core metabolism',\n",
    "    model_name='iJO1366',\n",
    ")\n",
    "builder"
   ]
  }
 ],
 "metadata": {
  "kernelspec": {
   "display_name": "Python 3",
   "language": "python",
   "name": "python3"
  },
  "language_info": {
   "codemirror_mode": {
    "name": "ipython",
    "version": 3
   },
   "file_extension": ".py",
   "mimetype": "text/x-python",
   "name": "python",
   "nbconvert_exporter": "python",
   "pygments_lexer": "ipython3",
   "version": "3.11.4"
  },
  "orig_nbformat": 4
 },
 "nbformat": 4,
 "nbformat_minor": 2
}
