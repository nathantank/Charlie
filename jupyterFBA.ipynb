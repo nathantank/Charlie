{
 "cells": [
  {
   "cell_type": "code",
   "execution_count": 1,
   "metadata": {},
   "outputs": [],
   "source": [
    "import cobra\n",
    "from cobra.io import load_model\n",
    "import escher\n",
    "from escher import Builder\n",
    "from time import sleep\n",
    "import pandas\n",
    "from cobra import Model, Reaction, Metabolite"
   ]
  },
  {
   "cell_type": "code",
   "execution_count": 2,
   "metadata": {},
   "outputs": [
    {
     "name": "stdout",
     "output_type": "stream",
     "text": [
      "Growth rate: 0.9823718127269633 1/h\n"
     ]
    }
   ],
   "source": [
    "#define model\n",
    "model = load_model(\"iJO1366\")\n",
    "#Run FBA, see growth rate under normal import circumstances\n",
    "solution = model.optimize()\n",
    "print('Growth rate: ' + str(solution.objective_value) + ' 1/h')"
   ]
  },
  {
   "cell_type": "code",
   "execution_count": 17,
   "metadata": {},
   "outputs": [
    {
     "name": "stdout",
     "output_type": "stream",
     "text": [
      "Growth rate: 0.9823718127269748 1/h\n"
     ]
    }
   ],
   "source": [
    "#what if we decrease 'amount' of glucose in medium (i.e. decrease import rate of glucose? what happens to growth rate?)\n",
    "model.reactions.get_by_id(\"EX_glc__D_e\").upper_bound = 1000\n",
    "\n",
    "model.reactions.get_by_id(\"EX_glc__D_e\").lower_bound = -10\n",
    "solution = model.optimize()\n",
    "print('Growth rate: ' + str(solution.objective_value) + ' 1/h')\n"
   ]
  },
  {
   "cell_type": "code",
   "execution_count": 18,
   "metadata": {},
   "outputs": [
    {
     "name": "stdout",
     "output_type": "stream",
     "text": [
      "Growth rate: 0.9823718127269748 1/h\n"
     ]
    }
   ],
   "source": [
    "#convert fluxes to df\n",
    "print('Growth rate: ' + str(solution.objective_value) + ' 1/h')\n",
    "df = pandas.DataFrame.from_dict([solution.fluxes]).T\n",
    "df.to_csv('FBA_max_biomass.csv')"
   ]
  },
  {
   "cell_type": "code",
   "execution_count": 19,
   "metadata": {},
   "outputs": [
    {
     "data": {
      "text/plain": [
       "[{'organism': 'Saccharomyces cerevisiae',\n",
       "  'map_name': 'iMM904.Central carbon metabolism'},\n",
       " {'organism': 'Homo sapiens',\n",
       "  'map_name': 'RECON1.Inositol retinol metabolism'},\n",
       " {'organism': 'Homo sapiens', 'map_name': 'RECON1.Glycolysis TCA PPP'},\n",
       " {'organism': 'Homo sapiens', 'map_name': 'RECON1.Tryptophan metabolism'},\n",
       " {'organism': 'Homo sapiens', 'map_name': 'RECON1.Carbohydrate metabolism'},\n",
       " {'organism': 'Homo sapiens',\n",
       "  'map_name': 'RECON1.Amino acid metabolism (partial)'},\n",
       " {'organism': 'Escherichia coli', 'map_name': 'iJO1366.Nucleotide metabolism'},\n",
       " {'organism': 'Escherichia coli',\n",
       "  'map_name': 'iJO1366.Fatty acid biosynthesis (saturated)'},\n",
       " {'organism': 'Escherichia coli',\n",
       "  'map_name': 'iJO1366.Nucleotide and histidine biosynthesis'},\n",
       " {'organism': 'Escherichia coli', 'map_name': 'e_coli_core.Core metabolism'},\n",
       " {'organism': 'Escherichia coli', 'map_name': 'iJO1366.Central metabolism'},\n",
       " {'organism': 'Escherichia coli',\n",
       "  'map_name': 'iJO1366.Fatty acid beta-oxidation'}]"
      ]
     },
     "execution_count": 19,
     "metadata": {},
     "output_type": "execute_result"
    }
   ],
   "source": [
    "escher.list_available_maps()"
   ]
  },
  {
   "cell_type": "code",
   "execution_count": 20,
   "metadata": {},
   "outputs": [
    {
     "name": "stdout",
     "output_type": "stream",
     "text": [
      "Downloading Map from https://escher.github.io/1-0-0/6/maps/Escherichia%20coli/e_coli_core.Core%20metabolism.json\n",
      "Downloading Model from https://escher.github.io/1-0-0/6/models/Escherichia%20coli/iJO1366.json\n"
     ]
    },
    {
     "data": {
      "application/vnd.jupyter.widget-view+json": {
       "model_id": "5b41e276a4de493ebc7b8f8afc364eba",
       "version_major": 2,
       "version_minor": 0
      },
      "text/plain": [
       "Builder()"
      ]
     },
     "metadata": {},
     "output_type": "display_data"
    }
   ],
   "source": [
    "builder = Builder(\n",
    "    map_name='e_coli_core.Core metabolism',\n",
    "    model_name='iJO1366',\n",
    ")\n",
    "builder"
   ]
  },
  {
   "cell_type": "code",
   "execution_count": null,
   "metadata": {},
   "outputs": [],
   "source": []
  },
  {
   "cell_type": "code",
   "execution_count": 21,
   "metadata": {},
   "outputs": [
    {
     "name": "stdout",
     "output_type": "stream",
     "text": [
      "PGI knocked out:  <Solution 0.976 at 0x18a16e18bd0>\n",
      "Growth rate: 0.9761293262947353 1/h\n"
     ]
    }
   ],
   "source": [
    "#simulate deletions\n",
    "from cobra.flux_analysis import (\n",
    "    single_gene_deletion, single_reaction_deletion, double_gene_deletion,\n",
    "    double_reaction_deletion)\n",
    "with model:\n",
    "    model.reactions.PGI.knock_out()\n",
    "    print('PGI knocked out: ', model.optimize())\n",
    "    solution = model.optimize()\n",
    "    print('Growth rate: ' + str(solution.objective_value) + ' 1/h')\n",
    "    df = pandas.DataFrame.from_dict([solution.fluxes]).T\n",
    "    df.to_csv('FBA_max_biomas1.csv')  "
   ]
  },
  {
   "cell_type": "code",
   "execution_count": 3,
   "metadata": {},
   "outputs": [],
   "source": [
    "#add heterologous reactions for genes crtE, crtB, crtI\n",
    "#define pre-existing metabolites\n",
    "ipdp_c = model.metabolites.get_by_id(\"ipdp_c\")\n",
    "frdp_c = model.metabolites.get_by_id(\"frdp_c\")\n",
    "ppi_c = model.metabolites.get_by_id(\"ppi_c\")\n",
    "nadp_c = model.metabolites.get_by_id(\"nadp_c\")\n",
    "nadph_c = model.metabolites.get_by_id(\"nadph_c\")\n",
    "#create new metabolites\n",
    "ggpp_c = Metabolite('ggpp_c',formula ='C20H36O7P2',name ='Geranylgeranyl pyrophosphate', compartment='c')\n",
    "phyto_c = Metabolite('phyto_c',formula ='C40H64', name ='Phytoene', compartment ='c')\n",
    "lyco_c = Metabolite('lyco_c',formula ='C40H56', name ='Lycopene', compartment ='c')\n",
    "#create new reactions\n",
    "reaction1 = Reaction('crtE')\n",
    "reaction1.name = 'geranylgeranyl pyrophosphate synthase (crtE)'\n",
    "reaction1.subsystem = 'Lycopene Biosynthesis'\n",
    "reaction1.lower_bound = 0\n",
    "reaction1.upper_bound = 1000\n",
    "reaction1.add_metabolites({ipdp_c: -1.0, frdp_c:-1.0,ggpp_c:1.0,ppi_c:1.0})\n",
    "\n",
    "reaction2 = Reaction('crtB')\n",
    "reaction2.name = 'phytoene synthase (crtB)'\n",
    "reaction2.subsystem = 'Lycopene Biosynthesis'\n",
    "reaction2.lower_bound = 0\n",
    "reaction2.upper_bound = 1000\n",
    "reaction2.add_metabolites({ggpp_c:-2.0,phyto_c:1.0,ppi_c:1.0})\n",
    "\n",
    "reaction3 = Reaction('crtI')\n",
    "reaction3.name = 'phytoene desaturase (crtI)'\n",
    "reaction3.subsystem = 'Lycopene Biosynthesis'\n",
    "reaction3.lower_bound = 0\n",
    "reaction3.upper_bound = 1000\n",
    "reaction3.add_metabolites({phyto_c:-1.0,nadp_c:-8.0,lyco_c:1.0,nadph_c:1.0})\n",
    "\n",
    "reaction4 = Reaction('LYCO-dem')\n",
    "reaction4.name = 'Lycopene demand'\n",
    "reaction4.subsystem = 'Lycopene biosynthesis'\n",
    "reaction4.lower_bound = 0\n",
    "reaction4.upper_bound = 1000\n",
    "reaction4.add_metabolites({lyco_c: -1.0})\n",
    "model.add_reactions([reaction1,reaction2,reaction3,reaction4])"
   ]
  },
  {
   "cell_type": "code",
   "execution_count": 23,
   "metadata": {},
   "outputs": [
    {
     "name": "stdout",
     "output_type": "stream",
     "text": [
      "mini test files: \n",
      "\n"
     ]
    }
   ],
   "source": [
    "from pathlib import Path\n",
    "iJO1366_crtEBI_path = Path()\n",
    "data_dir = Path(\".\") / \"..\" / \"Documents\" / \"GitHub\" / \"Charlie\"\n",
    "data_dir = data_dir.resolve()\n",
    "iJO1366_crtEBI_path = data_dir / \"iJO1366_crtEBI.xml\"\n",
    "read_sbml_model(str(iJO1366_crtEBI_path.resolve()))\n"
   ]
  },
  {
   "cell_type": "code",
   "execution_count": 26,
   "metadata": {},
   "outputs": [
    {
     "name": "stdout",
     "output_type": "stream",
     "text": [
      "C:\\Users\\natha\\OneDrive\\Documents\\GitHub\\Documents\\GitHub\\Charlie\\iJO1366_crtEBI.xml\n",
      "(None,\n",
      " {'COBRA_CHECK': [],\n",
      "  'COBRA_ERROR': ['No SBML model detected in file.'],\n",
      "  'COBRA_FATAL': [],\n",
      "  'COBRA_WARNING': [],\n",
      "  'SBML_ERROR': ['E0 (Error): Operating system (core, L1); File unreadable; '\n",
      "                 'File unreadable. '\n",
      "                 'C:\\\\Users\\\\natha\\\\AppData\\\\Local\\\\Temp\\\\tmp4j9_sp8k.xml\\n'],\n",
      "  'SBML_FATAL': [],\n",
      "  'SBML_SCHEMA_ERROR': [],\n",
      "  'SBML_WARNING': []})\n"
     ]
    }
   ],
   "source": [
    "#save edited model\n",
    "from pathlib import Path\n",
    "from cobra.io import load_json_model, save_json_model, load_matlab_model, save_matlab_model, read_sbml_model, write_sbml_model\n",
    "import logging\n",
    "save_json_model(model,'iJO1366_crtEBI.json')\n",
    "write_sbml_model(model,'iJO1366_crtEBI.xml')\n",
    "#load directory\n",
    "iJO1366_crtEBI_path = Path()\n",
    "data_dir = Path(\".\") / \"..\" / \"Documents\" / \"GitHub\" / \"Charlie\"\n",
    "data_dir = data_dir.resolve()\n",
    "iJO1366_crtEBI_path = data_dir / \"iJO1366_crtEBI.xml\"\n",
    "print(iJO1366_crtEBI_path)\n",
    "#validate model\n",
    "import tempfile\n",
    "from pprint import pprint\n",
    "from cobra.io import write_sbml_model, validate_sbml_model\n",
    "with tempfile.NamedTemporaryFile(suffix='.xml') as f_sbml:\n",
    "    write_sbml_model(model, filename=f_sbml.name)\n",
    "    report = validate_sbml_model(filename=f_sbml.name)\n",
    "\n",
    "pprint(report)"
   ]
  },
  {
   "cell_type": "code",
   "execution_count": 9,
   "metadata": {},
   "outputs": [
    {
     "name": "stdout",
     "output_type": "stream",
     "text": [
      "Downloading Map from https://escher.github.io/1-0-0/6/maps/Escherichia%20coli/e_coli_core.Core%20metabolism.json\n",
      "Downloading Model from https://escher.github.io/1-0-0/6/models/Escherichia%20coli/iJO1366.json\n"
     ]
    },
    {
     "data": {
      "application/vnd.jupyter.widget-view+json": {
       "model_id": "67ec940a5acd40f7ba6ddaa700d427dc",
       "version_major": 2,
       "version_minor": 0
      },
      "text/plain": [
       "Builder()"
      ]
     },
     "metadata": {},
     "output_type": "display_data"
    }
   ],
   "source": [
    "#load new model and create new map\n",
    "builder = Builder(\n",
    "    map_name='e_coli_core.Core metabolism',\n",
    "    model_name='iJO1366',\n",
    ")\n",
    "builder"
   ]
  },
  {
   "cell_type": "code",
   "execution_count": 16,
   "metadata": {},
   "outputs": [
    {
     "data": {
      "text/html": [
       "<pre style=\"white-space:pre;overflow-x:auto;line-height:normal;font-family:Menlo,'DejaVu Sans Mono',consolas,'Courier New',monospace\"></pre>\n"
      ],
      "text/plain": []
     },
     "metadata": {},
     "output_type": "display_data"
    },
    {
     "data": {
      "text/html": [
       "<pre style=\"white-space:pre;overflow-x:auto;line-height:normal;font-family:Menlo,'DejaVu Sans Mono',consolas,'Courier New',monospace\">\n",
       "</pre>\n"
      ],
      "text/plain": [
       "\n"
      ]
     },
     "metadata": {},
     "output_type": "display_data"
    },
    {
     "ename": "RuntimeError",
     "evalue": "The model 'iJO1366_crtEBI.xml' could not be found in any of the repositories.",
     "output_type": "error",
     "traceback": [
      "\u001b[1;31m---------------------------------------------------------------------------\u001b[0m",
      "\u001b[1;31mKeyError\u001b[0m                                  Traceback (most recent call last)",
      "File \u001b[1;32m~\\AppData\\Local\\Packages\\PythonSoftwareFoundation.Python.3.11_qbz5n2kfra8p0\\LocalCache\\local-packages\\Python311\\site-packages\\cobra\\io\\web\\load.py:127\u001b[0m, in \u001b[0;36m_cached_load\u001b[1;34m(model_id, repositories)\u001b[0m\n\u001b[0;32m    126\u001b[0m \u001b[39mtry\u001b[39;00m:\n\u001b[1;32m--> 127\u001b[0m     \u001b[39mreturn\u001b[39;00m cache[model_id]\n\u001b[0;32m    128\u001b[0m \u001b[39mexcept\u001b[39;00m \u001b[39mKeyError\u001b[39;00m:\n",
      "File \u001b[1;32m~\\AppData\\Local\\Packages\\PythonSoftwareFoundation.Python.3.11_qbz5n2kfra8p0\\LocalCache\\local-packages\\Python311\\site-packages\\diskcache\\core.py:1234\u001b[0m, in \u001b[0;36mCache.__getitem__\u001b[1;34m(self, key)\u001b[0m\n\u001b[0;32m   1233\u001b[0m \u001b[39mif\u001b[39;00m value \u001b[39mis\u001b[39;00m ENOVAL:\n\u001b[1;32m-> 1234\u001b[0m     \u001b[39mraise\u001b[39;00m \u001b[39mKeyError\u001b[39;00m(key)\n\u001b[0;32m   1235\u001b[0m \u001b[39mreturn\u001b[39;00m value\n",
      "\u001b[1;31mKeyError\u001b[0m: 'iJO1366_crtEBI.xml'",
      "\nDuring handling of the above exception, another exception occurred:\n",
      "\u001b[1;31mRuntimeError\u001b[0m                              Traceback (most recent call last)",
      "Cell \u001b[1;32mIn[16], line 2\u001b[0m\n\u001b[0;32m      1\u001b[0m \u001b[39m#simulate model\u001b[39;00m\n\u001b[1;32m----> 2\u001b[0m model \u001b[39m=\u001b[39m load_model(\u001b[39m'\u001b[39;49m\u001b[39miJO1366_crtEBI.xml\u001b[39;49m\u001b[39m'\u001b[39;49m)\n",
      "File \u001b[1;32m~\\AppData\\Local\\Packages\\PythonSoftwareFoundation.Python.3.11_qbz5n2kfra8p0\\LocalCache\\local-packages\\Python311\\site-packages\\cobra\\io\\web\\load.py:89\u001b[0m, in \u001b[0;36mload_model\u001b[1;34m(model_id, repositories, cache)\u001b[0m\n\u001b[0;32m     40\u001b[0m \u001b[39m\u001b[39m\u001b[39m\"\"\"\u001b[39;00m\n\u001b[0;32m     41\u001b[0m \u001b[39mDownload an SBML model from a remote repository.\u001b[39;00m\n\u001b[0;32m     42\u001b[0m \n\u001b[1;32m   (...)\u001b[0m\n\u001b[0;32m     86\u001b[0m \n\u001b[0;32m     87\u001b[0m \u001b[39m\"\"\"\u001b[39;00m\n\u001b[0;32m     88\u001b[0m \u001b[39mif\u001b[39;00m cache:\n\u001b[1;32m---> 89\u001b[0m     data \u001b[39m=\u001b[39m _cached_load(\n\u001b[0;32m     90\u001b[0m         model_id\u001b[39m=\u001b[39;49mmodel_id,\n\u001b[0;32m     91\u001b[0m         repositories\u001b[39m=\u001b[39;49mrepositories,\n\u001b[0;32m     92\u001b[0m     )\n\u001b[0;32m     93\u001b[0m \u001b[39melse\u001b[39;00m:\n\u001b[0;32m     94\u001b[0m     data \u001b[39m=\u001b[39m _fetch_model(model_id\u001b[39m=\u001b[39mmodel_id, repositories\u001b[39m=\u001b[39mrepositories)\n",
      "File \u001b[1;32m~\\AppData\\Local\\Packages\\PythonSoftwareFoundation.Python.3.11_qbz5n2kfra8p0\\LocalCache\\local-packages\\Python311\\site-packages\\cobra\\io\\web\\load.py:129\u001b[0m, in \u001b[0;36m_cached_load\u001b[1;34m(model_id, repositories)\u001b[0m\n\u001b[0;32m    127\u001b[0m     \u001b[39mreturn\u001b[39;00m cache[model_id]\n\u001b[0;32m    128\u001b[0m \u001b[39mexcept\u001b[39;00m \u001b[39mKeyError\u001b[39;00m:\n\u001b[1;32m--> 129\u001b[0m     data \u001b[39m=\u001b[39m _fetch_model(model_id\u001b[39m=\u001b[39;49mmodel_id, repositories\u001b[39m=\u001b[39;49mrepositories)\n\u001b[0;32m    130\u001b[0m     cache\u001b[39m.\u001b[39mset(key\u001b[39m=\u001b[39mmodel_id, value\u001b[39m=\u001b[39mdata, expire\u001b[39m=\u001b[39mconfiguration\u001b[39m.\u001b[39mcache_expiration)\n\u001b[0;32m    131\u001b[0m     \u001b[39mreturn\u001b[39;00m data\n",
      "File \u001b[1;32m~\\AppData\\Local\\Packages\\PythonSoftwareFoundation.Python.3.11_qbz5n2kfra8p0\\LocalCache\\local-packages\\Python311\\site-packages\\cobra\\io\\web\\load.py:179\u001b[0m, in \u001b[0;36m_fetch_model\u001b[1;34m(model_id, repositories)\u001b[0m\n\u001b[0;32m    175\u001b[0m     \u001b[39mexcept\u001b[39;00m httpx\u001b[39m.\u001b[39mRequestError \u001b[39mas\u001b[39;00m error:\n\u001b[0;32m    176\u001b[0m         \u001b[39mraise\u001b[39;00m \u001b[39mRuntimeError\u001b[39;00m(\n\u001b[0;32m    177\u001b[0m             \u001b[39mf\u001b[39m\u001b[39m\"\u001b[39m\u001b[39mThe connection to the \u001b[39m\u001b[39m{\u001b[39;00mrepository\u001b[39m.\u001b[39mname\u001b[39m}\u001b[39;00m\u001b[39m repository failed.\u001b[39m\u001b[39m\"\u001b[39m\n\u001b[0;32m    178\u001b[0m         ) \u001b[39mfrom\u001b[39;00m \u001b[39merror\u001b[39;00m\n\u001b[1;32m--> 179\u001b[0m \u001b[39mraise\u001b[39;00m \u001b[39mRuntimeError\u001b[39;00m(\n\u001b[0;32m    180\u001b[0m     \u001b[39mf\u001b[39m\u001b[39m\"\u001b[39m\u001b[39mThe model \u001b[39m\u001b[39m'\u001b[39m\u001b[39m{\u001b[39;00mmodel_id\u001b[39m}\u001b[39;00m\u001b[39m'\u001b[39m\u001b[39m could not be found in any of the repositories.\u001b[39m\u001b[39m\"\u001b[39m\n\u001b[0;32m    181\u001b[0m )\n",
      "\u001b[1;31mRuntimeError\u001b[0m: The model 'iJO1366_crtEBI.xml' could not be found in any of the repositories."
     ]
    }
   ],
   "source": []
  }
 ],
 "metadata": {
  "kernelspec": {
   "display_name": "Python 3",
   "language": "python",
   "name": "python3"
  },
  "language_info": {
   "codemirror_mode": {
    "name": "ipython",
    "version": 3
   },
   "file_extension": ".py",
   "mimetype": "text/x-python",
   "name": "python",
   "nbconvert_exporter": "python",
   "pygments_lexer": "ipython3",
   "version": "3.11.4"
  },
  "orig_nbformat": 4
 },
 "nbformat": 4,
 "nbformat_minor": 2
}
