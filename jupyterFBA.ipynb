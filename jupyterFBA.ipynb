{
 "cells": [
  {
   "cell_type": "code",
   "execution_count": 8,
   "metadata": {},
   "outputs": [],
   "source": [
    "import cobra\n",
    "from cobra.io import load_model\n",
    "import escher\n",
    "from escher import Builder\n",
    "from time import sleep\n",
    "import pandas\n",
    "from cobra import Model, Reaction, Metabolite"
   ]
  },
  {
   "cell_type": "code",
   "execution_count": 11,
   "metadata": {},
   "outputs": [
    {
     "name": "stdout",
     "output_type": "stream",
     "text": [
      "Growth rate: 0.9823718127269633 1/h\n"
     ]
    }
   ],
   "source": [
    "#define model\n",
    "model = load_model(\"iJO1366\")\n",
    "#Run FBA, see growth rate under normal import circumstances\n",
    "solution = model.optimize()\n",
    "print('Growth rate: ' + str(solution.objective_value) + ' 1/h')"
   ]
  },
  {
   "cell_type": "code",
   "execution_count": null,
   "metadata": {},
   "outputs": [],
   "source": [
    "#what if we decrease 'amount' of glucose in medium (i.e. decrease import rate of glucose? what happens to growth rate?)\n",
    "model.reactions.get_by_id(\"EX_glc__D_e\").upper_bound = 1000\n",
    "\n",
    "model.reactions.get_by_id(\"EX_glc__D_e\").lower_bound = -10\n",
    "solution = model.optimize()\n",
    "print('Growth rate: ' + str(solution.objective_value) + ' 1/h')\n"
   ]
  },
  {
   "cell_type": "code",
   "execution_count": null,
   "metadata": {},
   "outputs": [],
   "source": [
    "#convert fluxes to df\n",
    "print('Growth rate: ' + str(solution.objective_value) + ' 1/h')\n",
    "df = pandas.DataFrame.from_dict([solution.fluxes]).T\n",
    "df.to_csv('FBA_max_biomass.csv')"
   ]
  },
  {
   "cell_type": "code",
   "execution_count": 4,
   "metadata": {},
   "outputs": [
    {
     "data": {
      "text/plain": [
       "[{'organism': 'Saccharomyces cerevisiae',\n",
       "  'map_name': 'iMM904.Central carbon metabolism'},\n",
       " {'organism': 'Homo sapiens',\n",
       "  'map_name': 'RECON1.Inositol retinol metabolism'},\n",
       " {'organism': 'Homo sapiens', 'map_name': 'RECON1.Glycolysis TCA PPP'},\n",
       " {'organism': 'Homo sapiens', 'map_name': 'RECON1.Tryptophan metabolism'},\n",
       " {'organism': 'Homo sapiens', 'map_name': 'RECON1.Carbohydrate metabolism'},\n",
       " {'organism': 'Homo sapiens',\n",
       "  'map_name': 'RECON1.Amino acid metabolism (partial)'},\n",
       " {'organism': 'Escherichia coli', 'map_name': 'iJO1366.Nucleotide metabolism'},\n",
       " {'organism': 'Escherichia coli',\n",
       "  'map_name': 'iJO1366.Fatty acid biosynthesis (saturated)'},\n",
       " {'organism': 'Escherichia coli',\n",
       "  'map_name': 'iJO1366.Nucleotide and histidine biosynthesis'},\n",
       " {'organism': 'Escherichia coli', 'map_name': 'e_coli_core.Core metabolism'},\n",
       " {'organism': 'Escherichia coli', 'map_name': 'iJO1366.Central metabolism'},\n",
       " {'organism': 'Escherichia coli',\n",
       "  'map_name': 'iJO1366.Fatty acid beta-oxidation'}]"
      ]
     },
     "execution_count": 4,
     "metadata": {},
     "output_type": "execute_result"
    }
   ],
   "source": [
    "escher.list_available_maps()"
   ]
  },
  {
   "cell_type": "code",
   "execution_count": 6,
   "metadata": {},
   "outputs": [
    {
     "name": "stdout",
     "output_type": "stream",
     "text": [
      "Downloading Map from https://escher.github.io/1-0-0/6/maps/Escherichia%20coli/e_coli_core.Core%20metabolism.json\n",
      "Downloading Model from https://escher.github.io/1-0-0/6/models/Escherichia%20coli/iJO1366.json\n"
     ]
    },
    {
     "data": {
      "application/vnd.jupyter.widget-view+json": {
       "model_id": "6b87ad9639b64bbdb2899bcb29076521",
       "version_major": 2,
       "version_minor": 0
      },
      "text/plain": [
       "Builder()"
      ]
     },
     "metadata": {},
     "output_type": "display_data"
    }
   ],
   "source": [
    "builder = Builder(\n",
    "    map_name='e_coli_core.Core metabolism',\n",
    "    model_name='iJO1366',\n",
    ")\n",
    "builder"
   ]
  },
  {
   "cell_type": "code",
   "execution_count": null,
   "metadata": {},
   "outputs": [],
   "source": []
  },
  {
   "cell_type": "code",
   "execution_count": null,
   "metadata": {},
   "outputs": [],
   "source": [
    "#simulate deletions\n",
    "from cobra.flux_analysis import (\n",
    "    single_gene_deletion, single_reaction_deletion, double_gene_deletion,\n",
    "    double_reaction_deletion)\n",
    "with model:\n",
    "    model.reactions.PGI.knock_out()\n",
    "    print('PGI knocked out: ', model.optimize())\n",
    "    solution = model.optimize()\n",
    "    print('Growth rate: ' + str(solution.objective_value) + ' 1/h')\n",
    "    df = pandas.DataFrame.from_dict([solution.fluxes]).T\n",
    "    df.to_csv('FBA_max_biomas1.csv')  "
   ]
  },
  {
   "cell_type": "code",
   "execution_count": 13,
   "metadata": {},
   "outputs": [
    {
     "ename": "TypeError",
     "evalue": "'Reaction' object is not iterable",
     "output_type": "error",
     "traceback": [
      "\u001b[1;31m---------------------------------------------------------------------------\u001b[0m",
      "\u001b[1;31mTypeError\u001b[0m                                 Traceback (most recent call last)",
      "Cell \u001b[1;32mIn[13], line 19\u001b[0m\n\u001b[0;32m     17\u001b[0m reaction1\u001b[39m.\u001b[39mupper_bound \u001b[39m=\u001b[39m \u001b[39m1000\u001b[39m\n\u001b[0;32m     18\u001b[0m reaction1\u001b[39m.\u001b[39madd_metabolites({ipdp_c: \u001b[39m-\u001b[39m\u001b[39m1.0\u001b[39m, frdp_c:\u001b[39m-\u001b[39m\u001b[39m1.0\u001b[39m,ggpp_c:\u001b[39m1.0\u001b[39m,ppi_c:\u001b[39m1.0\u001b[39m})\n\u001b[1;32m---> 19\u001b[0m model\u001b[39m.\u001b[39;49madd_reactions(reaction1)\n\u001b[0;32m     20\u001b[0m reaction2 \u001b[39m=\u001b[39m Reaction(\u001b[39m'\u001b[39m\u001b[39mcrtB\u001b[39m\u001b[39m'\u001b[39m)\n\u001b[0;32m     21\u001b[0m reaction2\u001b[39m.\u001b[39mname \u001b[39m=\u001b[39m \u001b[39m'\u001b[39m\u001b[39mphytoene synthase (crtB)\u001b[39m\u001b[39m'\u001b[39m\n",
      "File \u001b[1;32m~\\AppData\\Local\\Packages\\PythonSoftwareFoundation.Python.3.11_qbz5n2kfra8p0\\LocalCache\\local-packages\\Python311\\site-packages\\cobra\\core\\model.py:721\u001b[0m, in \u001b[0;36mModel.add_reactions\u001b[1;34m(self, reaction_list)\u001b[0m\n\u001b[0;32m    718\u001b[0m     \u001b[39mreturn\u001b[39;00m \u001b[39mTrue\u001b[39;00m\n\u001b[0;32m    720\u001b[0m \u001b[39m# First check whether the reactions exist in the model.\u001b[39;00m\n\u001b[1;32m--> 721\u001b[0m pruned \u001b[39m=\u001b[39m DictList(\u001b[39mfilter\u001b[39m(existing_filter, reaction_list))\n\u001b[0;32m    723\u001b[0m context \u001b[39m=\u001b[39m get_context(\u001b[39mself\u001b[39m)\n\u001b[0;32m    725\u001b[0m \u001b[39m# Add reactions. Also take care of genes and metabolites in the loop.\u001b[39;00m\n",
      "\u001b[1;31mTypeError\u001b[0m: 'Reaction' object is not iterable"
     ]
    }
   ],
   "source": [
    "#add heterologous reactions for genes crtE, crtB, crtI\n",
    "#define pre-existing metabolites\n",
    "ipdp_c = model.metabolites.get_by_id(\"ipdp_c\")\n",
    "frdp_c = model.metabolites.get_by_id(\"frdp_c\")\n",
    "ppi_c = model.metabolites.get_by_id(\"ppi_c\")\n",
    "nadp_c = model.metabolites.get_by_id(\"nadp_c\")\n",
    "nadph_c = model.metabolites.get_by_id(\"nadph_c\")\n",
    "#create new metabolites\n",
    "ggpp_c = Metabolite('ggpp_c',formula ='C20H36O7P2',name ='Geranylgeranyl pyrophosphate', compartment='c')\n",
    "phyto_c = Metabolite('phyto_c',formula ='C40H64', name ='Phytoene', compartment ='c')\n",
    "lyco_c = Metabolite('lyco_c',formula ='C40H56', name ='Lycopene', compartment ='c')\n",
    "#create new reactions\n",
    "reaction1 = Reaction('crtE')\n",
    "reaction1.name = 'geranylgeranyl pyrophosphate synthase (crtE)'\n",
    "reaction1.subsystem = 'Lycopene Biosynthesis'\n",
    "reaction1.lower_bound = 0\n",
    "reaction1.upper_bound = 1000\n",
    "reaction1.add_metabolites({ipdp_c: -1.0, frdp_c:-1.0,ggpp_c:1.0,ppi_c:1.0})\n",
    "model.add_reactions(reaction1)\n",
    "reaction2 = Reaction('crtB')\n",
    "reaction2.name = 'phytoene synthase (crtB)'\n",
    "reaction2.subsystem = 'Lycopene Biosynthesis'\n",
    "reaction2.lower_bound = 0\n",
    "reaction2.upper_bound = 1000\n",
    "reaction2.add_metabolites({ggpp_c:-2.0,phyto_c:1.0,ppi_c:1.0})\n",
    "model.add_reactions(reaction2)\n",
    "reaction3 = Reaction('crtI')\n",
    "reaction3.name = 'phytoene desaturase (crtI)'\n",
    "reaction3.subsystem = 'Lycopene Biosynthesis'\n",
    "reaction3.lower_bound = 0\n",
    "reaction3.upper_bound = 1000\n",
    "reaction3.add_metabolites({phyto_c:-1.0,nadp_c:-8.0,lyco_c:1.0,nadph_c:1.0})\n",
    "model.add_reactions(reaction3)\n",
    "reaction4 = Reaction('LYCO-dem')\n",
    "reaction4.name = 'Lycopene demand'\n",
    "reaction4.subsystem = 'Lycopene biosynthesis'\n",
    "reaction4.lower_bound = 0\n",
    "reaction4.upper_bound = 1000\n",
    "reaction4.add_metabolites({lyco_c: -1.0})\n",
    "model.add_reactions(reaction4)"
   ]
  }
 ],
 "metadata": {
  "kernelspec": {
   "display_name": "Python 3",
   "language": "python",
   "name": "python3"
  },
  "language_info": {
   "codemirror_mode": {
    "name": "ipython",
    "version": 3
   },
   "file_extension": ".py",
   "mimetype": "text/x-python",
   "name": "python",
   "nbconvert_exporter": "python",
   "pygments_lexer": "ipython3",
   "version": "3.11.4"
  },
  "orig_nbformat": 4
 },
 "nbformat": 4,
 "nbformat_minor": 2
}
